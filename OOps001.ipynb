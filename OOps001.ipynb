{
  "nbformat": 4,
  "nbformat_minor": 0,
  "metadata": {
    "colab": {
      "provenance": []
    },
    "kernelspec": {
      "name": "python3",
      "display_name": "Python 3"
    },
    "language_info": {
      "name": "python"
    }
  },
  "cells": [
    {
      "cell_type": "code",
      "execution_count": 5,
      "metadata": {
        "colab": {
          "base_uri": "https://localhost:8080/"
        },
        "id": "7ch24MdIjnCQ",
        "outputId": "360e4a9c-1140-40e2-fac0-9003b1e320d7"
      },
      "outputs": [
        {
          "output_type": "stream",
          "name": "stdout",
          "text": [
            "2022 Toyota Camry\n",
            "This car has 0 miles on it.\n",
            "This car has 15000 miles on it.\n"
          ]
        }
      ],
      "source": [
        "#\n",
        "'''In object-oriented programming (OOP), a class is a blueprint or a template for creating objects. It defines the attributes\n",
        "(data) and methods (functions) that will be associated with the objects created from it. An object, on the other hand, is\n",
        "an instance of a class. It represents a particular instance or entity in the real world that is modeled by the class.\n",
        "\n",
        "'''\n",
        "class Car:\n",
        "    def __init__(self, make, model, year):\n",
        "        self.make = make\n",
        "        self.model = model\n",
        "        self.year = year\n",
        "        self.odometer_reading = 0\n",
        "\n",
        "    def get_car_info(self):\n",
        "        return f\"{self.year} {self.make} {self.model}\"\n",
        "\n",
        "    def read_odometer(self):\n",
        "        return f\"This car has {self.odometer_reading} miles on it.\"\n",
        "\n",
        "\n",
        "# Creating objects (instances) of the Car class\n",
        "car1 = Car(\"Toyota\", \"Camry\", 2022)\n",
        "car2 = Car(\"Honda\", \"Accord\", 2020)\n",
        "\n",
        "# Accessing attributes and calling methods of objects\n",
        "print(car1.get_car_info())  # Output: 2022 Toyota Camry\n",
        "print(car2.read_odometer())  # Output: This car has 0 miles on it.\n",
        "\n",
        "# Modifying attributes of objects\n",
        "car1.odometer_reading = 15000\n",
        "print(car1.read_odometer())\n"
      ]
    },
    {
      "cell_type": "code",
      "source": [
        "# 2\n",
        "'''\n",
        "there are four pillar of OOps:-\n",
        "\n",
        "1) Abstraction\n",
        "2) Inheritance\n",
        "3) Polymorphism\n",
        "4) encapsulation\n",
        "\n",
        "'''"
      ],
      "metadata": {
        "id": "FFWUtdqwjpLM"
      },
      "execution_count": null,
      "outputs": []
    },
    {
      "cell_type": "code",
      "source": [
        "# 3 Explain why the __init__() function is used. Give a suitable example.\n",
        "'''\n",
        "it is a function in python.\n",
        "__init__() is a constructor in python .\n",
        "when we create object automatic called.\n",
        "'''\n",
        "# example\n",
        "class Car:\n",
        "    def __init__(self, make, model, year):\n",
        "        self.make = make\n",
        "        self.model = model\n",
        "        self.year = year\n",
        "        self.odometer_reading = 0\n",
        "\n",
        "    def get_car_info(self):\n",
        "        return f\"{self.year} {self.make} {self.model}\"\n",
        "\n",
        "    def read_odometer(self):\n",
        "        return f\"This car has {self.odometer_reading} miles on it.\"\n",
        "\n",
        "\n",
        "my_car = Car(\"Toyota\", \"Camry\", 2022)\n",
        "print(my_car.get_car_info())\n",
        "print(my_car.read_odometer())\n"
      ],
      "metadata": {
        "colab": {
          "base_uri": "https://localhost:8080/"
        },
        "id": "jquizbEJjo65",
        "outputId": "8f024c09-883d-49dc-9b7c-8f3097f317b4"
      },
      "execution_count": 3,
      "outputs": [
        {
          "output_type": "stream",
          "name": "stdout",
          "text": [
            "2022 Toyota Camry\n",
            "This car has 0 miles on it.\n"
          ]
        }
      ]
    },
    {
      "cell_type": "code",
      "source": [
        "# 4\n",
        "'''\n",
        "self in python :\n",
        "self is first parameter of function.\n",
        "it is a pointer.\n",
        "\n",
        "\n",
        "'''\n",
        "class Person:\n",
        "    def __init__(self, name, age):\n",
        "        self.name = name\n",
        "        self.age = age\n",
        "\n",
        "    def greet(self):\n",
        "        return f\"Hello, my name is {self.name} and I'm {self.age} years old.\"\n",
        "\n",
        "\n",
        "person1 = Person(\"Alice\", 30)\n",
        "print(person1.greet())\n"
      ],
      "metadata": {
        "colab": {
          "base_uri": "https://localhost:8080/"
        },
        "id": "9QwCtiZbmDBk",
        "outputId": "5cf91fc2-cba0-4484-f0f0-9f3e8ef44c9e"
      },
      "execution_count": 4,
      "outputs": [
        {
          "output_type": "stream",
          "name": "stdout",
          "text": [
            "Hello, my name is Alice and I'm 30 years old.\n"
          ]
        }
      ]
    },
    {
      "cell_type": "code",
      "source": [],
      "metadata": {
        "id": "J8OkGHRNpRPO"
      },
      "execution_count": null,
      "outputs": []
    }
  ]
}